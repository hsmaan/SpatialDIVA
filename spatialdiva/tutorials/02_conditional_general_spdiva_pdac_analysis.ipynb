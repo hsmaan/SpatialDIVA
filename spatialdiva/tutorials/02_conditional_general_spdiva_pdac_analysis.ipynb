{
 "cells": [
  {
   "cell_type": "markdown",
   "metadata": {},
   "source": [
    "In this notebook, we'll perform conditional generation using the SpatialDIVA model, on the pancreatic cancer data from Zhou et al.\n",
    "\n",
    "The results of this analysis will be a bit different from the paper result, as we'll only use 1000 samples (spots) for quick inference and demonstration purposes, and train the full model on a subset of the data (2 slides).\n",
    "\n",
    "The high level and detailed processes for performing conditional generation is outlined in the manuscript. In general:\n",
    "\n",
    "- We start by training the SpatialDIVA model on the data.\n",
    "- We then use the trained model to generate latent samples for each of the factors we're considering.\n",
    "- We zero out all but one of the factors, and generate samples considering only the variation of the remaining factor.\n",
    "\n",
    "After this, we'll have generated transcriptomic counts specific to each factor, and we can perform additional downstream analyses, such as differential expression analysis, clustering, etc.\n",
    "\n",
    "Let's start by loading the required libraries and the data."
   ]
  },
  {
   "cell_type": "code",
   "execution_count": 4,
   "metadata": {},
   "outputs": [],
   "source": [
    "%load_ext autoreload\n",
    "%autoreload 2\n",
    "\n",
    "import sys \n",
    "import os \n",
    "sys.path.append(\"..\")\n",
    "\n",
    "import numpy as np \n",
    "import pandas as pd \n",
    "import matplotlib.pyplot as plt\n",
    "import seaborn as sns\n",
    "import scanpy as sc \n",
    "import anndata as ann \n",
    "\n",
    "from api import StDIVA"
   ]
  },
  {
   "cell_type": "code",
   "execution_count": 5,
   "metadata": {},
   "outputs": [],
   "source": [
    "# Load the first two slides of the Zhou et al dataset\n",
    "adata_path = \"/projects/scDisent/adata_tumor\"\n",
    "adata_files = [f for f in os.listdir(adata_path) if f.endswith(\".h5ad\")]\n",
    "adata_files = [os.path.join(adata_path, f) for f in adata_files]\n",
    "\n",
    "adata_files_sub = adata_files[:2]\n",
    "adatas = []\n",
    "for adata_file in adata_files_sub:\n",
    "    adata = sc.read_h5ad(adata_file)\n",
    "    adatas.append(adata)"
   ]
  },
  {
   "cell_type": "code",
   "execution_count": 6,
   "metadata": {},
   "outputs": [],
   "source": [
    "from sklearn.preprocessing import LabelEncoder\n",
    "\n",
    "counts_dim = adata.shape[1] # Because we are using all the genes\n",
    "uni_cols = [col for col in adatas[0].obs.columns if \"UNI\" in col]\n",
    "hist_dim = len(uni_cols)\n",
    "# When getting unique values, combine the celltypes from both slides\n",
    "y1_dim = len(np.unique(np.concatenate([adatas[0].obs[\"ST_celltype\"].values, adatas[1].obs[\"ST_celltype\"].values])))\n",
    "y2_dim = 100 # 50 PCs for the ST data and 50 PCs for the UNI data - neighbourhood context \n",
    "\n",
    "# Transform path labels due to string encoding and character issues\n",
    "# When getting unique values, combine the pathologist annotations from both slides\n",
    "path_labels = np.concatenate([adatas[0].obs[\"is_tumor\"].values, adatas[1].obs[\"is_tumor\"].values]) \n",
    "le = LabelEncoder()\n",
    "path_labels = le.fit_transform(path_labels)\n",
    "\n",
    "y3_dim = len(np.unique(path_labels))\n",
    "d_dim = 2 # For two slides"
   ]
  },
  {
   "cell_type": "code",
   "execution_count": 7,
   "metadata": {},
   "outputs": [],
   "source": [
    "stdiva = StDIVA(\n",
    "    counts_dim = counts_dim,\n",
    "    hist_dim = hist_dim,\n",
    "    y1_dim = y1_dim,\n",
    "    y2_dim = y2_dim,\n",
    "    y3_dim = y3_dim,\n",
    "    d_dim = d_dim,\n",
    "    betas = [1, 1, 1, 1, 1, 1] # Default betas\n",
    ")"
   ]
  },
  {
   "cell_type": "code",
   "execution_count": 13,
   "metadata": {},
   "outputs": [
    {
     "name": "stdout",
     "output_type": "stream",
     "text": [
      "Processing data..\n"
     ]
    },
    {
     "name": "stderr",
     "output_type": "stream",
     "text": [
      "/h/hmaan/.cache/pypoetry/virtualenvs/spatialdiva-PyiMLd3V-py3.9/lib/python3.9/site-packages/anndata/_core/anndata.py:1818: UserWarning: Observation names are not unique. To make them unique, call `.obs_names_make_unique`.\n",
      "  utils.warn_names_duplicates(\"obs\")\n",
      "/h/hmaan/.cache/pypoetry/virtualenvs/spatialdiva-PyiMLd3V-py3.9/lib/python3.9/site-packages/scipy/sparse/_data.py:149: RuntimeWarning: overflow encountered in expm1\n",
      "  result = op(self._deduped_data())\n",
      "/h/hmaan/.cache/pypoetry/virtualenvs/spatialdiva-PyiMLd3V-py3.9/lib/python3.9/site-packages/scipy/sparse/_data.py:149: RuntimeWarning: overflow encountered in expm1\n",
      "  result = op(self._deduped_data())\n",
      "/h/hmaan/.cache/pypoetry/virtualenvs/spatialdiva-PyiMLd3V-py3.9/lib/python3.9/site-packages/anndata/_core/anndata.py:1818: UserWarning: Observation names are not unique. To make them unique, call `.obs_names_make_unique`.\n",
      "  utils.warn_names_duplicates(\"obs\")\n",
      "/h/hmaan/.cache/pypoetry/virtualenvs/spatialdiva-PyiMLd3V-py3.9/lib/python3.9/site-packages/scipy/sparse/_data.py:149: RuntimeWarning: overflow encountered in expm1\n",
      "  result = op(self._deduped_data())\n"
     ]
    },
    {
     "ename": "ValueError",
     "evalue": "cannot specify integer `bins` when input data contains infinity",
     "output_type": "error",
     "traceback": [
      "\u001b[0;31m---------------------------------------------------------------------------\u001b[0m",
      "\u001b[0;31mValueError\u001b[0m                                Traceback (most recent call last)",
      "Cell \u001b[0;32mIn[13], line 1\u001b[0m\n\u001b[0;32m----> 1\u001b[0m \u001b[43mstdiva\u001b[49m\u001b[38;5;241;43m.\u001b[39;49m\u001b[43madd_data\u001b[49m\u001b[43m(\u001b[49m\n\u001b[1;32m      2\u001b[0m \u001b[43m    \u001b[49m\u001b[43madata\u001b[49m\u001b[43m \u001b[49m\u001b[38;5;241;43m=\u001b[39;49m\u001b[43m \u001b[49m\u001b[43madata_files\u001b[49m\u001b[43m[\u001b[49m\u001b[38;5;241;43m0\u001b[39;49m\u001b[43m:\u001b[49m\u001b[38;5;241;43m2\u001b[39;49m\u001b[43m]\u001b[49m\u001b[43m,\u001b[49m\n\u001b[1;32m      3\u001b[0m \u001b[43m    \u001b[49m\u001b[43mlabel_key_y1\u001b[49m\u001b[43m \u001b[49m\u001b[38;5;241;43m=\u001b[39;49m\u001b[43m \u001b[49m\u001b[38;5;124;43m\"\u001b[39;49m\u001b[38;5;124;43mST_celltype\u001b[39;49m\u001b[38;5;124;43m\"\u001b[39;49m\u001b[43m,\u001b[49m\n\u001b[1;32m      4\u001b[0m \u001b[43m    \u001b[49m\u001b[43mlabel_key_y3\u001b[49m\u001b[43m \u001b[49m\u001b[38;5;241;43m=\u001b[39;49m\u001b[43m \u001b[49m\u001b[38;5;124;43m\"\u001b[39;49m\u001b[38;5;124;43mis_tumor\u001b[39;49m\u001b[38;5;124;43m\"\u001b[39;49m\u001b[43m,\u001b[49m\n\u001b[1;32m      5\u001b[0m \u001b[43m    \u001b[49m\u001b[43mhist_col_key\u001b[49m\u001b[43m \u001b[49m\u001b[38;5;241;43m=\u001b[39;49m\u001b[43m \u001b[49m\u001b[38;5;124;43m\"\u001b[39;49m\u001b[38;5;124;43mUNI\u001b[39;49m\u001b[38;5;124;43m\"\u001b[39;49m\u001b[43m,\u001b[49m\n\u001b[1;32m      6\u001b[0m \u001b[43m    \u001b[49m\u001b[43mhvg\u001b[49m\u001b[43m \u001b[49m\u001b[38;5;241;43m=\u001b[39;49m\u001b[43m \u001b[49m\u001b[38;5;28;43;01mFalse\u001b[39;49;00m\u001b[43m \u001b[49m\u001b[38;5;66;43;03m# We are not using HVGs - we are using all the genes\u001b[39;49;00m\n\u001b[1;32m      7\u001b[0m \u001b[43m)\u001b[49m\n",
      "File \u001b[0;32m/fs01/home/hmaan/Documents/SpatialDIVA/spatialdiva/tutorials/../api/st_diva_api.py:120\u001b[0m, in \u001b[0;36mStDIVA.add_data\u001b[0;34m(self, adata, train_index, val_index, label_key_y1, label_key_y2, label_key_y3, hist_col_key, hvg)\u001b[0m\n\u001b[1;32m    117\u001b[0m \u001b[38;5;28mself\u001b[39m\u001b[38;5;241m.\u001b[39mlabel_key_y3 \u001b[38;5;241m=\u001b[39m label_key_y3\n\u001b[1;32m    119\u001b[0m \u001b[38;5;66;03m# Process the anndata object \u001b[39;00m\n\u001b[0;32m--> 120\u001b[0m adatas \u001b[38;5;241m=\u001b[39m \u001b[43madata_process\u001b[49m\u001b[43m(\u001b[49m\n\u001b[1;32m    121\u001b[0m \u001b[43m    \u001b[49m\u001b[43madata_files\u001b[49m\u001b[43m \u001b[49m\u001b[38;5;241;43m=\u001b[39;49m\u001b[43m \u001b[49m\u001b[43madata\u001b[49m\u001b[43m,\u001b[49m\n\u001b[1;32m    122\u001b[0m \u001b[43m    \u001b[49m\u001b[43mnormalize\u001b[49m\u001b[38;5;241;43m=\u001b[39;49m\u001b[38;5;28;43;01mFalse\u001b[39;49;00m\u001b[43m,\u001b[49m\n\u001b[1;32m    123\u001b[0m \u001b[43m    \u001b[49m\u001b[43mstandardize_sct\u001b[49m\u001b[38;5;241;43m=\u001b[39;49m\u001b[38;5;28;43;01mFalse\u001b[39;49;00m\u001b[43m,\u001b[49m\n\u001b[1;32m    124\u001b[0m \u001b[43m    \u001b[49m\u001b[43mstandardize_uni\u001b[49m\u001b[38;5;241;43m=\u001b[39;49m\u001b[38;5;28;43;01mTrue\u001b[39;49;00m\u001b[43m,\u001b[49m\n\u001b[1;32m    125\u001b[0m \u001b[43m    \u001b[49m\u001b[43mn_top_genes\u001b[49m\u001b[38;5;241;43m=\u001b[39;49m\u001b[38;5;241;43m2500\u001b[39;49m\u001b[43m,\u001b[49m\n\u001b[1;32m    126\u001b[0m \u001b[43m    \u001b[49m\u001b[43mn_neighbors_pca\u001b[49m\u001b[38;5;241;43m=\u001b[39;49m\u001b[38;5;241;43m15\u001b[39;49m\u001b[43m,\u001b[49m\n\u001b[1;32m    127\u001b[0m \u001b[43m    \u001b[49m\u001b[43mknn_type\u001b[49m\u001b[38;5;241;43m=\u001b[39;49m\u001b[38;5;124;43m\"\u001b[39;49m\u001b[38;5;124;43mspatial\u001b[39;49m\u001b[38;5;124;43m\"\u001b[39;49m\u001b[43m,\u001b[49m\n\u001b[1;32m    128\u001b[0m \u001b[43m\u001b[49m\u001b[43m)\u001b[49m\n\u001b[1;32m    130\u001b[0m \u001b[38;5;66;03m# Get the union of the HVGs \u001b[39;00m\n\u001b[1;32m    131\u001b[0m \u001b[38;5;28mself\u001b[39m\u001b[38;5;241m.\u001b[39madata \u001b[38;5;241m=\u001b[39m ann\u001b[38;5;241m.\u001b[39mconcat(adatas)\n",
      "File \u001b[0;32m/fs01/home/hmaan/Documents/SpatialDIVA/spatialdiva/tutorials/../utils/diva_data.py:124\u001b[0m, in \u001b[0;36madata_process\u001b[0;34m(adata_files, normalize, standardize_sct, standardize_uni, n_top_genes, n_neighbors_pca, knn_type)\u001b[0m\n\u001b[1;32m    122\u001b[0m \u001b[38;5;66;03m# Perform hvg selection (concatenate anndatas to do this)\u001b[39;00m\n\u001b[1;32m    123\u001b[0m adata_concat \u001b[38;5;241m=\u001b[39m ann\u001b[38;5;241m.\u001b[39mconcat(adata_list)\n\u001b[0;32m--> 124\u001b[0m \u001b[43msc\u001b[49m\u001b[38;5;241;43m.\u001b[39;49m\u001b[43mpp\u001b[49m\u001b[38;5;241;43m.\u001b[39;49m\u001b[43mhighly_variable_genes\u001b[49m\u001b[43m(\u001b[49m\u001b[43madata_concat\u001b[49m\u001b[43m,\u001b[49m\u001b[43m \u001b[49m\u001b[43mn_top_genes\u001b[49m\u001b[38;5;241;43m=\u001b[39;49m\u001b[43mn_top_genes\u001b[49m\u001b[43m)\u001b[49m\n\u001b[1;32m    125\u001b[0m hvg \u001b[38;5;241m=\u001b[39m adata_concat\u001b[38;5;241m.\u001b[39mvar\u001b[38;5;241m.\u001b[39mhighly_variable\n\u001b[1;32m    126\u001b[0m \u001b[38;5;28;01mfor\u001b[39;00m adata \u001b[38;5;129;01min\u001b[39;00m adata_list:\n",
      "File \u001b[0;32m~/.cache/pypoetry/virtualenvs/spatialdiva-PyiMLd3V-py3.9/lib/python3.9/site-packages/legacy_api_wrap/__init__.py:82\u001b[0m, in \u001b[0;36mlegacy_api.<locals>.wrapper.<locals>.fn_compatible\u001b[0;34m(*args_all, **kw)\u001b[0m\n\u001b[1;32m     79\u001b[0m \u001b[38;5;129m@wraps\u001b[39m(fn)\n\u001b[1;32m     80\u001b[0m \u001b[38;5;28;01mdef\u001b[39;00m\u001b[38;5;250m \u001b[39m\u001b[38;5;21mfn_compatible\u001b[39m(\u001b[38;5;241m*\u001b[39margs_all: P\u001b[38;5;241m.\u001b[39margs, \u001b[38;5;241m*\u001b[39m\u001b[38;5;241m*\u001b[39mkw: P\u001b[38;5;241m.\u001b[39mkwargs) \u001b[38;5;241m-\u001b[39m\u001b[38;5;241m>\u001b[39m R:\n\u001b[1;32m     81\u001b[0m     \u001b[38;5;28;01mif\u001b[39;00m \u001b[38;5;28mlen\u001b[39m(args_all) \u001b[38;5;241m<\u001b[39m\u001b[38;5;241m=\u001b[39m n_positional:\n\u001b[0;32m---> 82\u001b[0m         \u001b[38;5;28;01mreturn\u001b[39;00m \u001b[43mfn\u001b[49m\u001b[43m(\u001b[49m\u001b[38;5;241;43m*\u001b[39;49m\u001b[43margs_all\u001b[49m\u001b[43m,\u001b[49m\u001b[43m \u001b[49m\u001b[38;5;241;43m*\u001b[39;49m\u001b[38;5;241;43m*\u001b[39;49m\u001b[43mkw\u001b[49m\u001b[43m)\u001b[49m\n\u001b[1;32m     84\u001b[0m     args_pos: P\u001b[38;5;241m.\u001b[39margs\n\u001b[1;32m     85\u001b[0m     args_pos, args_rest \u001b[38;5;241m=\u001b[39m args_all[:n_positional], args_all[n_positional:]\n",
      "File \u001b[0;32m~/.cache/pypoetry/virtualenvs/spatialdiva-PyiMLd3V-py3.9/lib/python3.9/site-packages/scanpy/preprocessing/_highly_variable_genes.py:680\u001b[0m, in \u001b[0;36mhighly_variable_genes\u001b[0;34m(***failed resolving arguments***)\u001b[0m\n\u001b[1;32m    677\u001b[0m \u001b[38;5;28;01mdel\u001b[39;00m min_disp, max_disp, min_mean, max_mean, n_top_genes\n\u001b[1;32m    679\u001b[0m \u001b[38;5;28;01mif\u001b[39;00m batch_key \u001b[38;5;129;01mis\u001b[39;00m \u001b[38;5;28;01mNone\u001b[39;00m:\n\u001b[0;32m--> 680\u001b[0m     df \u001b[38;5;241m=\u001b[39m \u001b[43m_highly_variable_genes_single_batch\u001b[49m\u001b[43m(\u001b[49m\n\u001b[1;32m    681\u001b[0m \u001b[43m        \u001b[49m\u001b[43madata\u001b[49m\u001b[43m,\u001b[49m\u001b[43m \u001b[49m\u001b[43mlayer\u001b[49m\u001b[38;5;241;43m=\u001b[39;49m\u001b[43mlayer\u001b[49m\u001b[43m,\u001b[49m\u001b[43m \u001b[49m\u001b[43mcutoff\u001b[49m\u001b[38;5;241;43m=\u001b[39;49m\u001b[43mcutoff\u001b[49m\u001b[43m,\u001b[49m\u001b[43m \u001b[49m\u001b[43mn_bins\u001b[49m\u001b[38;5;241;43m=\u001b[39;49m\u001b[43mn_bins\u001b[49m\u001b[43m,\u001b[49m\u001b[43m \u001b[49m\u001b[43mflavor\u001b[49m\u001b[38;5;241;43m=\u001b[39;49m\u001b[43mflavor\u001b[49m\n\u001b[1;32m    682\u001b[0m \u001b[43m    \u001b[49m\u001b[43m)\u001b[49m\n\u001b[1;32m    683\u001b[0m \u001b[38;5;28;01melse\u001b[39;00m:\n\u001b[1;32m    684\u001b[0m     df \u001b[38;5;241m=\u001b[39m _highly_variable_genes_batched(\n\u001b[1;32m    685\u001b[0m         adata, batch_key, layer\u001b[38;5;241m=\u001b[39mlayer, cutoff\u001b[38;5;241m=\u001b[39mcutoff, n_bins\u001b[38;5;241m=\u001b[39mn_bins, flavor\u001b[38;5;241m=\u001b[39mflavor\n\u001b[1;32m    686\u001b[0m     )\n",
      "File \u001b[0;32m~/.cache/pypoetry/virtualenvs/spatialdiva-PyiMLd3V-py3.9/lib/python3.9/site-packages/scanpy/preprocessing/_highly_variable_genes.py:310\u001b[0m, in \u001b[0;36m_highly_variable_genes_single_batch\u001b[0;34m(adata, layer, cutoff, n_bins, flavor)\u001b[0m\n\u001b[1;32m    308\u001b[0m \u001b[38;5;66;03m# all of the following quantities are \"per-gene\" here\u001b[39;00m\n\u001b[1;32m    309\u001b[0m df \u001b[38;5;241m=\u001b[39m pd\u001b[38;5;241m.\u001b[39mDataFrame(\u001b[38;5;28mdict\u001b[39m(\u001b[38;5;28mzip\u001b[39m([\u001b[38;5;124m\"\u001b[39m\u001b[38;5;124mmeans\u001b[39m\u001b[38;5;124m\"\u001b[39m, \u001b[38;5;124m\"\u001b[39m\u001b[38;5;124mdispersions\u001b[39m\u001b[38;5;124m\"\u001b[39m], (mean, dispersion))))\n\u001b[0;32m--> 310\u001b[0m df[\u001b[38;5;124m\"\u001b[39m\u001b[38;5;124mmean_bin\u001b[39m\u001b[38;5;124m\"\u001b[39m] \u001b[38;5;241m=\u001b[39m \u001b[43m_get_mean_bins\u001b[49m\u001b[43m(\u001b[49m\u001b[43mdf\u001b[49m\u001b[43m[\u001b[49m\u001b[38;5;124;43m\"\u001b[39;49m\u001b[38;5;124;43mmeans\u001b[39;49m\u001b[38;5;124;43m\"\u001b[39;49m\u001b[43m]\u001b[49m\u001b[43m,\u001b[49m\u001b[43m \u001b[49m\u001b[43mflavor\u001b[49m\u001b[43m,\u001b[49m\u001b[43m \u001b[49m\u001b[43mn_bins\u001b[49m\u001b[43m)\u001b[49m\n\u001b[1;32m    311\u001b[0m disp_stats \u001b[38;5;241m=\u001b[39m _get_disp_stats(df, flavor)\n\u001b[1;32m    313\u001b[0m \u001b[38;5;66;03m# actually do the normalization\u001b[39;00m\n",
      "File \u001b[0;32m~/.cache/pypoetry/virtualenvs/spatialdiva-PyiMLd3V-py3.9/lib/python3.9/site-packages/scanpy/preprocessing/_highly_variable_genes.py:336\u001b[0m, in \u001b[0;36m_get_mean_bins\u001b[0;34m(means, flavor, n_bins)\u001b[0m\n\u001b[1;32m    333\u001b[0m \u001b[38;5;28;01melse\u001b[39;00m:\n\u001b[1;32m    334\u001b[0m     \u001b[38;5;28;01mraise\u001b[39;00m \u001b[38;5;167;01mValueError\u001b[39;00m(\u001b[38;5;124m'\u001b[39m\u001b[38;5;124m`flavor` needs to be \u001b[39m\u001b[38;5;124m\"\u001b[39m\u001b[38;5;124mseurat\u001b[39m\u001b[38;5;124m\"\u001b[39m\u001b[38;5;124m or \u001b[39m\u001b[38;5;124m\"\u001b[39m\u001b[38;5;124mcell_ranger\u001b[39m\u001b[38;5;124m\"\u001b[39m\u001b[38;5;124m'\u001b[39m)\n\u001b[0;32m--> 336\u001b[0m \u001b[38;5;28;01mreturn\u001b[39;00m \u001b[43mpd\u001b[49m\u001b[38;5;241;43m.\u001b[39;49m\u001b[43mcut\u001b[49m\u001b[43m(\u001b[49m\u001b[43mmeans\u001b[49m\u001b[43m,\u001b[49m\u001b[43m \u001b[49m\u001b[43mbins\u001b[49m\u001b[38;5;241;43m=\u001b[39;49m\u001b[43mbins\u001b[49m\u001b[43m)\u001b[49m\n",
      "File \u001b[0;32m~/.cache/pypoetry/virtualenvs/spatialdiva-PyiMLd3V-py3.9/lib/python3.9/site-packages/pandas/core/reshape/tile.py:246\u001b[0m, in \u001b[0;36mcut\u001b[0;34m(x, bins, right, labels, retbins, precision, include_lowest, duplicates, ordered)\u001b[0m\n\u001b[1;32m    243\u001b[0m x_idx, _ \u001b[38;5;241m=\u001b[39m _coerce_to_type(x_idx)\n\u001b[1;32m    245\u001b[0m \u001b[38;5;28;01mif\u001b[39;00m \u001b[38;5;129;01mnot\u001b[39;00m np\u001b[38;5;241m.\u001b[39miterable(bins):\n\u001b[0;32m--> 246\u001b[0m     bins \u001b[38;5;241m=\u001b[39m \u001b[43m_nbins_to_bins\u001b[49m\u001b[43m(\u001b[49m\u001b[43mx_idx\u001b[49m\u001b[43m,\u001b[49m\u001b[43m \u001b[49m\u001b[43mbins\u001b[49m\u001b[43m,\u001b[49m\u001b[43m \u001b[49m\u001b[43mright\u001b[49m\u001b[43m)\u001b[49m\n\u001b[1;32m    248\u001b[0m \u001b[38;5;28;01melif\u001b[39;00m \u001b[38;5;28misinstance\u001b[39m(bins, IntervalIndex):\n\u001b[1;32m    249\u001b[0m     \u001b[38;5;28;01mif\u001b[39;00m bins\u001b[38;5;241m.\u001b[39mis_overlapping:\n",
      "File \u001b[0;32m~/.cache/pypoetry/virtualenvs/spatialdiva-PyiMLd3V-py3.9/lib/python3.9/site-packages/pandas/core/reshape/tile.py:368\u001b[0m, in \u001b[0;36m_nbins_to_bins\u001b[0;34m(x_idx, nbins, right)\u001b[0m\n\u001b[1;32m    364\u001b[0m mn, mx \u001b[38;5;241m=\u001b[39m rng\n\u001b[1;32m    366\u001b[0m \u001b[38;5;28;01mif\u001b[39;00m is_numeric_dtype(x_idx\u001b[38;5;241m.\u001b[39mdtype) \u001b[38;5;129;01mand\u001b[39;00m (np\u001b[38;5;241m.\u001b[39misinf(mn) \u001b[38;5;129;01mor\u001b[39;00m np\u001b[38;5;241m.\u001b[39misinf(mx)):\n\u001b[1;32m    367\u001b[0m     \u001b[38;5;66;03m# GH#24314\u001b[39;00m\n\u001b[0;32m--> 368\u001b[0m     \u001b[38;5;28;01mraise\u001b[39;00m \u001b[38;5;167;01mValueError\u001b[39;00m(\n\u001b[1;32m    369\u001b[0m         \u001b[38;5;124m\"\u001b[39m\u001b[38;5;124mcannot specify integer `bins` when input data contains infinity\u001b[39m\u001b[38;5;124m\"\u001b[39m\n\u001b[1;32m    370\u001b[0m     )\n\u001b[1;32m    372\u001b[0m \u001b[38;5;28;01mif\u001b[39;00m mn \u001b[38;5;241m==\u001b[39m mx:  \u001b[38;5;66;03m# adjust end points before binning\u001b[39;00m\n\u001b[1;32m    373\u001b[0m     \u001b[38;5;28;01mif\u001b[39;00m _is_dt_or_td(x_idx\u001b[38;5;241m.\u001b[39mdtype):\n\u001b[1;32m    374\u001b[0m         \u001b[38;5;66;03m# using seconds=1 is pretty arbitrary here\u001b[39;00m\n\u001b[1;32m    375\u001b[0m         \u001b[38;5;66;03m# error: Argument 1 to \"dtype_to_unit\" has incompatible type\u001b[39;00m\n\u001b[1;32m    376\u001b[0m         \u001b[38;5;66;03m# \"dtype[Any] | ExtensionDtype\"; expected \"DatetimeTZDtype | dtype[Any]\"\u001b[39;00m\n",
      "\u001b[0;31mValueError\u001b[0m: cannot specify integer `bins` when input data contains infinity"
     ]
    }
   ],
   "source": [
    "stdiva.add_data(\n",
    "    adata = adata_files[0:2],\n",
    "    label_key_y1 = \"ST_celltype\",\n",
    "    label_key_y3 = \"is_tumor\",\n",
    "    hist_col_key = \"UNI\",\n",
    "    hvg = False # We are not using HVGs - we are using all the genes\n",
    ")"
   ]
  },
  {
   "cell_type": "code",
   "execution_count": 12,
   "metadata": {},
   "outputs": [
    {
     "ename": "AttributeError",
     "evalue": "'StDIVA' object has no attribute 'adata'",
     "output_type": "error",
     "traceback": [
      "\u001b[0;31m---------------------------------------------------------------------------\u001b[0m",
      "\u001b[0;31mAttributeError\u001b[0m                            Traceback (most recent call last)",
      "Cell \u001b[0;32mIn[12], line 1\u001b[0m\n\u001b[0;32m----> 1\u001b[0m \u001b[43mstdiva\u001b[49m\u001b[38;5;241;43m.\u001b[39;49m\u001b[43madata\u001b[49m\n",
      "\u001b[0;31mAttributeError\u001b[0m: 'StDIVA' object has no attribute 'adata'"
     ]
    }
   ],
   "source": [
    "stdiva.adata"
   ]
  },
  {
   "cell_type": "code",
   "execution_count": null,
   "metadata": {},
   "outputs": [],
   "source": []
  },
  {
   "cell_type": "code",
   "execution_count": null,
   "metadata": {},
   "outputs": [],
   "source": []
  },
  {
   "cell_type": "code",
   "execution_count": null,
   "metadata": {},
   "outputs": [],
   "source": []
  },
  {
   "cell_type": "markdown",
   "metadata": {},
   "source": []
  }
 ],
 "metadata": {
  "kernelspec": {
   "display_name": "spatialdiva-PyiMLd3V-py3.9",
   "language": "python",
   "name": "python3"
  },
  "language_info": {
   "codemirror_mode": {
    "name": "ipython",
    "version": 3
   },
   "file_extension": ".py",
   "mimetype": "text/x-python",
   "name": "python",
   "nbconvert_exporter": "python",
   "pygments_lexer": "ipython3",
   "version": "3.9.9"
  }
 },
 "nbformat": 4,
 "nbformat_minor": 2
}
